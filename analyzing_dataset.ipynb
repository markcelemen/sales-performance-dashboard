{
 "cells": [
  {
   "cell_type": "markdown",
   "id": "c8b235ad-5a67-4801-93b4-22af5ec1e42c",
   "metadata": {},
   "source": [
    "# Analyzing Dataset / Exploratory Data Analysis (EDA)"
   ]
  },
  {
   "cell_type": "markdown",
   "id": "356989ad-f752-4135-9d7f-2c5642f899d2",
   "metadata": {},
   "source": [
    "## Importing Data"
   ]
  },
  {
   "cell_type": "code",
   "execution_count": 2,
   "id": "a138c2ba-6476-4b27-b59c-b62dfba449d1",
   "metadata": {},
   "outputs": [],
   "source": [
    "import numpy as np\n",
    "import pandas as pd\n",
    "import matplotlib.pyplot as plt\n",
    "\n",
    "%matplotlib inline"
   ]
  },
  {
   "cell_type": "code",
   "execution_count": 3,
   "id": "b86ec9a4-8bfd-47c6-a9ef-0c741467428d",
   "metadata": {},
   "outputs": [
    {
     "name": "stdout",
     "output_type": "stream",
     "text": [
      "<class 'pandas.core.frame.DataFrame'>\n",
      "RangeIndex: 99457 entries, 0 to 99456\n",
      "Data columns (total 15 columns):\n",
      " #   Column          Non-Null Count  Dtype  \n",
      "---  ------          --------------  -----  \n",
      " 0   invoice_no      99457 non-null  object \n",
      " 1   customer_id     99457 non-null  object \n",
      " 2   gender          99457 non-null  object \n",
      " 3   age             99457 non-null  int64  \n",
      " 4   category        99457 non-null  object \n",
      " 5   quantity        99457 non-null  int64  \n",
      " 6   price           99457 non-null  float64\n",
      " 7   payment_method  99457 non-null  object \n",
      " 8   invoice_date    99457 non-null  object \n",
      " 9   shopping_mall   99457 non-null  object \n",
      " 10  year            99457 non-null  int64  \n",
      " 11  month           99457 non-null  int64  \n",
      " 12  day             99457 non-null  int64  \n",
      " 13  price_usd       99457 non-null  float64\n",
      " 14  revenue         99457 non-null  float64\n",
      "dtypes: float64(3), int64(5), object(7)\n",
      "memory usage: 11.4+ MB\n"
     ]
    },
    {
     "data": {
      "text/html": [
       "<div>\n",
       "<style scoped>\n",
       "    .dataframe tbody tr th:only-of-type {\n",
       "        vertical-align: middle;\n",
       "    }\n",
       "\n",
       "    .dataframe tbody tr th {\n",
       "        vertical-align: top;\n",
       "    }\n",
       "\n",
       "    .dataframe thead th {\n",
       "        text-align: right;\n",
       "    }\n",
       "</style>\n",
       "<table border=\"1\" class=\"dataframe\">\n",
       "  <thead>\n",
       "    <tr style=\"text-align: right;\">\n",
       "      <th></th>\n",
       "      <th>invoice_no</th>\n",
       "      <th>customer_id</th>\n",
       "      <th>gender</th>\n",
       "      <th>age</th>\n",
       "      <th>category</th>\n",
       "      <th>quantity</th>\n",
       "      <th>price</th>\n",
       "      <th>payment_method</th>\n",
       "      <th>invoice_date</th>\n",
       "      <th>shopping_mall</th>\n",
       "      <th>year</th>\n",
       "      <th>month</th>\n",
       "      <th>day</th>\n",
       "      <th>price_usd</th>\n",
       "      <th>revenue</th>\n",
       "    </tr>\n",
       "  </thead>\n",
       "  <tbody>\n",
       "    <tr>\n",
       "      <th>0</th>\n",
       "      <td>I138884</td>\n",
       "      <td>C241288</td>\n",
       "      <td>Female</td>\n",
       "      <td>28</td>\n",
       "      <td>Clothing</td>\n",
       "      <td>5</td>\n",
       "      <td>1500.40</td>\n",
       "      <td>Credit Card</td>\n",
       "      <td>2022-08-05</td>\n",
       "      <td>Kanyon</td>\n",
       "      <td>2022</td>\n",
       "      <td>8</td>\n",
       "      <td>5</td>\n",
       "      <td>36.20</td>\n",
       "      <td>181.00</td>\n",
       "    </tr>\n",
       "    <tr>\n",
       "      <th>1</th>\n",
       "      <td>I317333</td>\n",
       "      <td>C111565</td>\n",
       "      <td>Male</td>\n",
       "      <td>21</td>\n",
       "      <td>Shoes</td>\n",
       "      <td>3</td>\n",
       "      <td>1800.51</td>\n",
       "      <td>Debit Card</td>\n",
       "      <td>2021-12-12</td>\n",
       "      <td>Forum Istanbul</td>\n",
       "      <td>2021</td>\n",
       "      <td>12</td>\n",
       "      <td>12</td>\n",
       "      <td>43.44</td>\n",
       "      <td>130.32</td>\n",
       "    </tr>\n",
       "    <tr>\n",
       "      <th>2</th>\n",
       "      <td>I127801</td>\n",
       "      <td>C266599</td>\n",
       "      <td>Male</td>\n",
       "      <td>20</td>\n",
       "      <td>Clothing</td>\n",
       "      <td>1</td>\n",
       "      <td>300.08</td>\n",
       "      <td>Cash</td>\n",
       "      <td>2021-11-09</td>\n",
       "      <td>Metrocity</td>\n",
       "      <td>2021</td>\n",
       "      <td>11</td>\n",
       "      <td>9</td>\n",
       "      <td>7.24</td>\n",
       "      <td>7.24</td>\n",
       "    </tr>\n",
       "    <tr>\n",
       "      <th>3</th>\n",
       "      <td>I173702</td>\n",
       "      <td>C988172</td>\n",
       "      <td>Female</td>\n",
       "      <td>66</td>\n",
       "      <td>Shoes</td>\n",
       "      <td>5</td>\n",
       "      <td>3000.85</td>\n",
       "      <td>Credit Card</td>\n",
       "      <td>2021-05-16</td>\n",
       "      <td>Metropol AVM</td>\n",
       "      <td>2021</td>\n",
       "      <td>5</td>\n",
       "      <td>16</td>\n",
       "      <td>72.40</td>\n",
       "      <td>362.00</td>\n",
       "    </tr>\n",
       "    <tr>\n",
       "      <th>4</th>\n",
       "      <td>I337046</td>\n",
       "      <td>C189076</td>\n",
       "      <td>Female</td>\n",
       "      <td>53</td>\n",
       "      <td>Books</td>\n",
       "      <td>4</td>\n",
       "      <td>60.60</td>\n",
       "      <td>Cash</td>\n",
       "      <td>2021-10-24</td>\n",
       "      <td>Kanyon</td>\n",
       "      <td>2021</td>\n",
       "      <td>10</td>\n",
       "      <td>24</td>\n",
       "      <td>1.46</td>\n",
       "      <td>5.84</td>\n",
       "    </tr>\n",
       "  </tbody>\n",
       "</table>\n",
       "</div>"
      ],
      "text/plain": [
       "  invoice_no customer_id  gender  age  category  quantity    price  \\\n",
       "0    I138884     C241288  Female   28  Clothing         5  1500.40   \n",
       "1    I317333     C111565    Male   21     Shoes         3  1800.51   \n",
       "2    I127801     C266599    Male   20  Clothing         1   300.08   \n",
       "3    I173702     C988172  Female   66     Shoes         5  3000.85   \n",
       "4    I337046     C189076  Female   53     Books         4    60.60   \n",
       "\n",
       "  payment_method invoice_date   shopping_mall  year  month  day  price_usd  \\\n",
       "0    Credit Card   2022-08-05          Kanyon  2022      8    5      36.20   \n",
       "1     Debit Card   2021-12-12  Forum Istanbul  2021     12   12      43.44   \n",
       "2           Cash   2021-11-09       Metrocity  2021     11    9       7.24   \n",
       "3    Credit Card   2021-05-16    Metropol AVM  2021      5   16      72.40   \n",
       "4           Cash   2021-10-24          Kanyon  2021     10   24       1.46   \n",
       "\n",
       "   revenue  \n",
       "0   181.00  \n",
       "1   130.32  \n",
       "2     7.24  \n",
       "3   362.00  \n",
       "4     5.84  "
      ]
     },
     "execution_count": 3,
     "metadata": {},
     "output_type": "execute_result"
    }
   ],
   "source": [
    "retail_df = pd.read_csv('preprocessed_customer_shopping_data.csv')\n",
    "\n",
    "retail_df.info()\n",
    "retail_df.head()\n",
    "# retail_df.tail()"
   ]
  },
  {
   "cell_type": "markdown",
   "id": "55cefb21-cd45-4057-b3aa-2ff6a49d5e70",
   "metadata": {},
   "source": [
    "## Transaction Analysis & Visualization"
   ]
  },
  {
   "cell_type": "code",
   "execution_count": 26,
   "id": "d19d6075-3f3c-4177-b1ba-f47e049f13d5",
   "metadata": {},
   "outputs": [
    {
     "data": {
      "text/plain": [
       "99457"
      ]
     },
     "execution_count": 26,
     "metadata": {},
     "output_type": "execute_result"
    }
   ],
   "source": [
    "# Total Transactions\n",
    "retail_df['invoice_no'].size"
   ]
  },
  {
   "cell_type": "code",
   "execution_count": 52,
   "id": "54fc2d4d-d992-4544-8330-21dee59afa42",
   "metadata": {},
   "outputs": [
    {
     "data": {
      "image/png": "[encoded data removed]",
      "text/plain": [
       "<Figure size 640x480 with 1 Axes>"
      ]
     },
     "metadata": {},
     "output_type": "display_data"
    }
   ],
   "source": [
    "# Yearly Transactions\n",
    "\n",
    "transactions_2021 = len(retail_df[retail_df['year'] == 2021])\n",
    "transactions_2022 = len(retail_df[retail_df['year'] == 2022])\n",
    "transactions_2023 = len(retail_df[retail_df['year'] == 2023])\n",
    "\n",
    "x = np.array(['2021', '2022', '2023'])\n",
    "y = np.array([transactions_2021, transactions_2022, transactions_2023])\n",
    "\n",
    "plt.bar(x, y)\n",
    "plt.title('Yearly Transactions')\n",
    "plt.xlabel('Year')\n",
    "plt.ylabel('No. of Transactions')\n",
    "plt.show()"
   ]
  },
  {
   "cell_type": "code",
   "execution_count": 8,
   "id": "a1bc89e2-6131-4c8d-a119-d6a609f6329a",
   "metadata": {},
   "outputs": [
    {
     "data": {
      "text/plain": [
       "3835"
      ]
     },
     "execution_count": 8,
     "metadata": {},
     "output_type": "execute_result"
    }
   ],
   "source": [
    "# Monthly Transactions\n",
    "# Let's use 2021 as an example\n",
    "\n",
    "jan = retail_df[(retail_df['year'] == 2021) & (retail_df['month'] ==  1)]\n",
    "feb = retail_df[(retail_df['year'] == 2021) & (retail_df['month'] ==  2)]\n",
    "mar = retail_df[(retail_df['year'] == 2021) & (retail_df['month'] ==  3)]\n",
    "apr = retail_df[(retail_df['year'] == 2021) & (retail_df['month'] ==  4)]\n",
    "may = retail_df[(retail_df['year'] == 2021) & (retail_df['month'] ==  5)]\n",
    "jun = retail_df[(retail_df['year'] == 2021) & (retail_df['month'] ==  6)]\n",
    "jul = retail_df[(retail_df['year'] == 2021) & (retail_df['month'] ==  7)]\n",
    "aug = retail_df[(retail_df['year'] == 2021) & (retail_df['month'] ==  8)]\n",
    "sep = retail_df[(retail_df['year'] == 2021) & (retail_df['month'] ==  9)]\n",
    "octo = retail_df[(retail_df['year'] == 2021) & (retail_df['month'] == 10)]\n",
    "nov = retail_df[(retail_df['year'] == 2021) & (retail_df['month'] ==  11)]\n",
    "dec = retail_df[(retail_df['year'] == 2021) & (retail_df['month'] ==  12)]\n",
    "\n",
    "len(jan)"
   ]
  },
  {
   "cell_type": "code",
   "execution_count": null,
   "id": "afc73a6f-eb6d-438b-924f-5126e43b2d29",
   "metadata": {},
   "outputs": [],
   "source": [
    "# Weekday Transactions\n"
   ]
  },
  {
   "cell_type": "code",
   "execution_count": 56,
   "id": "18fbdd27-0083-44b1-8984-e7a29cb84a33",
   "metadata": {},
   "outputs": [],
   "source": [
    "# Transactions per Category\n"
   ]
  },
  {
   "cell_type": "markdown",
   "id": "a617d7d0-7541-4d6c-b1c3-3ac8c487edc5",
   "metadata": {},
   "source": [
    "## Quantity Analysis and Visualization"
   ]
  },
  {
   "cell_type": "code",
   "execution_count": 54,
   "id": "7ff56e08-cd4f-4b73-8fa1-c5efacf066ad",
   "metadata": {},
   "outputs": [],
   "source": [
    "# Total Quantity Sold\n"
   ]
  },
  {
   "cell_type": "code",
   "execution_count": null,
   "id": "79e05635-0f58-45e3-990d-c1cc76efe7ac",
   "metadata": {},
   "outputs": [],
   "source": [
    "# Yearly Quantity Sold\n"
   ]
  },
  {
   "cell_type": "code",
   "execution_count": null,
   "id": "33eddfec-6f8c-46fe-9578-75a067eaee9e",
   "metadata": {},
   "outputs": [],
   "source": [
    "# Monthly Quantity Sold\n"
   ]
  },
  {
   "cell_type": "code",
   "execution_count": 57,
   "id": "5548c57b-0a14-448f-8b5f-f589cb2f84d8",
   "metadata": {},
   "outputs": [],
   "source": [
    "# Weekday Quantity Sold\n"
   ]
  },
  {
   "cell_type": "markdown",
   "id": "6768ed28-6136-47f6-ba3d-af2e87022559",
   "metadata": {},
   "source": [
    "## Revenue Analysis and Visualization"
   ]
  },
  {
   "cell_type": "code",
   "execution_count": 12,
   "id": "21fd5ac4-cfed-409a-b26d-03b0d027686f",
   "metadata": {},
   "outputs": [],
   "source": [
    "# Total Revenue\n"
   ]
  },
  {
   "cell_type": "code",
   "execution_count": 16,
   "id": "dfa9652b-8437-49ec-ac9a-3e18bffc456d",
   "metadata": {},
   "outputs": [],
   "source": [
    "# Revenue by Category\n"
   ]
  },
  {
   "cell_type": "code",
   "execution_count": null,
   "id": "46dbee2d-db26-4830-a027-8b94e724822d",
   "metadata": {},
   "outputs": [],
   "source": [
    "# Yearly Revenue\n"
   ]
  },
  {
   "cell_type": "code",
   "execution_count": 15,
   "id": "11452eb5-1970-4eeb-ae4c-38a8a88a3f71",
   "metadata": {},
   "outputs": [],
   "source": [
    "# Monthly Revenue\n"
   ]
  },
  {
   "cell_type": "markdown",
   "id": "7d41ebaa-caa9-4f21-8a2b-75bdcaa09233",
   "metadata": {},
   "source": [
    "## Category Analysis and Visualization"
   ]
  },
  {
   "cell_type": "code",
   "execution_count": 59,
   "id": "0c2f1bc4-108e-4873-9ea9-628d79f48179",
   "metadata": {},
   "outputs": [],
   "source": [
    "# Revenue % Per Category"
   ]
  },
  {
   "cell_type": "markdown",
   "id": "e4ddf599-926e-40ad-b83e-980c61c5f6ff",
   "metadata": {},
   "source": [
    "## Shopping Mall Analysis and Visualization"
   ]
  },
  {
   "cell_type": "code",
   "execution_count": 17,
   "id": "3992f8a9-fc4e-45c7-81ff-230476a9e834",
   "metadata": {},
   "outputs": [],
   "source": [
    "# Revenue % Per Mall"
   ]
  },
  {
   "cell_type": "code",
   "execution_count": null,
   "id": "f5a3688a-b14e-4d7a-bd64-f8cb18f25786",
   "metadata": {},
   "outputs": [],
   "source": []
  }
 ],
 "metadata": {
  "kernelspec": {
   "display_name": "Python 3 (ipykernel)",
   "language": "python",
   "name": "python3"
  },
  "language_info": {
   "codemirror_mode": {
    "name": "ipython",
    "version": 3
   },
   "file_extension": ".py",
   "mimetype": "text/x-python",
   "name": "python",
   "nbconvert_exporter": "python",
   "pygments_lexer": "ipython3",
   "version": "3.13.7"
  }
 },
 "nbformat": 4,
 "nbformat_minor": 5
}
