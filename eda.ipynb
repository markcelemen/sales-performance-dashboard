{
 "cells": [
  {
   "cell_type": "markdown",
   "id": "7a71a5da-6b59-440c-9f41-77172433aa44",
   "metadata": {},
   "source": [
    "# Exploratory Data Analysis"
   ]
  },
  {
   "cell_type": "code",
   "execution_count": 1,
   "id": "0344ac1d-c14f-47e8-b7e7-79da27ea577c",
   "metadata": {},
   "outputs": [],
   "source": [
    "# import libraries\n",
    "import pandas as pd\n",
    "import matplotlib.pyplot as plt\n",
    "import seaborn as sns\n",
    "import mysql.connector"
   ]
  },
  {
   "cell_type": "code",
   "execution_count": null,
   "id": "b5083268-2ea7-448b-a83f-cb232330cd8a",
   "metadata": {},
   "outputs": [],
   "source": []
  },
  {
   "cell_type": "code",
   "execution_count": 2,
   "id": "3d4c383b-2e3a-4410-bd58-c675c2c91a96",
   "metadata": {},
   "outputs": [
    {
     "name": "stdout",
     "output_type": "stream",
     "text": [
      "<class 'pandas.core.frame.DataFrame'>\n",
      "RangeIndex: 9994 entries, 0 to 9993\n",
      "Data columns (total 29 columns):\n",
      " #   Column            Non-Null Count  Dtype  \n",
      "---  ------            --------------  -----  \n",
      " 0   row_id            9994 non-null   int64  \n",
      " 1   order_id          9994 non-null   object \n",
      " 2   order_date        9994 non-null   object \n",
      " 3   ship_date         9994 non-null   object \n",
      " 4   ship_mode         9994 non-null   object \n",
      " 5   customer_id       9994 non-null   object \n",
      " 6   customer_name     9994 non-null   object \n",
      " 7   segment           9994 non-null   object \n",
      " 8   country           9994 non-null   object \n",
      " 9   city              9994 non-null   object \n",
      " 10  state             9994 non-null   object \n",
      " 11  postal_code       9994 non-null   int64  \n",
      " 12  region            9994 non-null   object \n",
      " 13  product_id        9994 non-null   object \n",
      " 14  category          9994 non-null   object \n",
      " 15  sub_category      9994 non-null   object \n",
      " 16  product_name      9994 non-null   object \n",
      " 17  sales             9994 non-null   float64\n",
      " 18  quantity          9994 non-null   int64  \n",
      " 19  discount          9994 non-null   float64\n",
      " 20  profit            9994 non-null   float64\n",
      " 21  profit_margin     9994 non-null   float64\n",
      " 22  discounted_sales  9994 non-null   float64\n",
      " 23  order_year        9994 non-null   int64  \n",
      " 24  order_month       9994 non-null   int64  \n",
      " 25  order_day         9994 non-null   int64  \n",
      " 26  ship_year         9994 non-null   int64  \n",
      " 27  ship_month        9994 non-null   int64  \n",
      " 28  ship_day          9994 non-null   int64  \n",
      "dtypes: float64(5), int64(9), object(15)\n",
      "memory usage: 2.2+ MB\n"
     ]
    }
   ],
   "source": [
    "superstore_df = pd.read_csv(\"cleaned_superstore.csv\")\n",
    "superstore_df.info()"
   ]
  },
  {
   "cell_type": "code",
   "execution_count": 3,
   "id": "a96a6fd6-fa99-48d2-9f67-8232a9848c2a",
   "metadata": {},
   "outputs": [
    {
     "data": {
      "text/html": [
       "<div>\n",
       "<style scoped>\n",
       "    .dataframe tbody tr th:only-of-type {\n",
       "        vertical-align: middle;\n",
       "    }\n",
       "\n",
       "    .dataframe tbody tr th {\n",
       "        vertical-align: top;\n",
       "    }\n",
       "\n",
       "    .dataframe thead th {\n",
       "        text-align: right;\n",
       "    }\n",
       "</style>\n",
       "<table border=\"1\" class=\"dataframe\">\n",
       "  <thead>\n",
       "    <tr style=\"text-align: right;\">\n",
       "      <th></th>\n",
       "      <th>row_id</th>\n",
       "      <th>order_id</th>\n",
       "      <th>order_date</th>\n",
       "      <th>ship_date</th>\n",
       "      <th>ship_mode</th>\n",
       "      <th>customer_id</th>\n",
       "      <th>customer_name</th>\n",
       "      <th>segment</th>\n",
       "      <th>country</th>\n",
       "      <th>city</th>\n",
       "      <th>...</th>\n",
       "      <th>discount</th>\n",
       "      <th>profit</th>\n",
       "      <th>profit_margin</th>\n",
       "      <th>discounted_sales</th>\n",
       "      <th>order_year</th>\n",
       "      <th>order_month</th>\n",
       "      <th>order_day</th>\n",
       "      <th>ship_year</th>\n",
       "      <th>ship_month</th>\n",
       "      <th>ship_day</th>\n",
       "    </tr>\n",
       "  </thead>\n",
       "  <tbody>\n",
       "    <tr>\n",
       "      <th>0</th>\n",
       "      <td>1</td>\n",
       "      <td>CA-2016-152156</td>\n",
       "      <td>2016-11-08</td>\n",
       "      <td>2016-11-11</td>\n",
       "      <td>Second Class</td>\n",
       "      <td>CG-12520</td>\n",
       "      <td>Claire Gute</td>\n",
       "      <td>Consumer</td>\n",
       "      <td>United States</td>\n",
       "      <td>Henderson</td>\n",
       "      <td>...</td>\n",
       "      <td>0.00</td>\n",
       "      <td>41.9136</td>\n",
       "      <td>0.1600</td>\n",
       "      <td>261.9600</td>\n",
       "      <td>2016</td>\n",
       "      <td>11</td>\n",
       "      <td>8</td>\n",
       "      <td>2016</td>\n",
       "      <td>11</td>\n",
       "      <td>11</td>\n",
       "    </tr>\n",
       "    <tr>\n",
       "      <th>1</th>\n",
       "      <td>2</td>\n",
       "      <td>CA-2016-152156</td>\n",
       "      <td>2016-11-08</td>\n",
       "      <td>2016-11-11</td>\n",
       "      <td>Second Class</td>\n",
       "      <td>CG-12520</td>\n",
       "      <td>Claire Gute</td>\n",
       "      <td>Consumer</td>\n",
       "      <td>United States</td>\n",
       "      <td>Henderson</td>\n",
       "      <td>...</td>\n",
       "      <td>0.00</td>\n",
       "      <td>219.5820</td>\n",
       "      <td>0.3000</td>\n",
       "      <td>731.9400</td>\n",
       "      <td>2016</td>\n",
       "      <td>11</td>\n",
       "      <td>8</td>\n",
       "      <td>2016</td>\n",
       "      <td>11</td>\n",
       "      <td>11</td>\n",
       "    </tr>\n",
       "    <tr>\n",
       "      <th>2</th>\n",
       "      <td>3</td>\n",
       "      <td>CA-2016-138688</td>\n",
       "      <td>2016-06-12</td>\n",
       "      <td>2016-06-16</td>\n",
       "      <td>Second Class</td>\n",
       "      <td>DV-13045</td>\n",
       "      <td>Darrin Van Huff</td>\n",
       "      <td>Corporate</td>\n",
       "      <td>United States</td>\n",
       "      <td>Los Angeles</td>\n",
       "      <td>...</td>\n",
       "      <td>0.00</td>\n",
       "      <td>6.8714</td>\n",
       "      <td>0.4700</td>\n",
       "      <td>14.6200</td>\n",
       "      <td>2016</td>\n",
       "      <td>6</td>\n",
       "      <td>12</td>\n",
       "      <td>2016</td>\n",
       "      <td>6</td>\n",
       "      <td>16</td>\n",
       "    </tr>\n",
       "    <tr>\n",
       "      <th>3</th>\n",
       "      <td>4</td>\n",
       "      <td>US-2015-108966</td>\n",
       "      <td>2015-10-11</td>\n",
       "      <td>2015-10-18</td>\n",
       "      <td>Standard Class</td>\n",
       "      <td>SO-20335</td>\n",
       "      <td>Sean O'Donnell</td>\n",
       "      <td>Consumer</td>\n",
       "      <td>United States</td>\n",
       "      <td>Fort Lauderdale</td>\n",
       "      <td>...</td>\n",
       "      <td>0.45</td>\n",
       "      <td>-383.0310</td>\n",
       "      <td>-0.4000</td>\n",
       "      <td>526.6676</td>\n",
       "      <td>2015</td>\n",
       "      <td>10</td>\n",
       "      <td>11</td>\n",
       "      <td>2015</td>\n",
       "      <td>10</td>\n",
       "      <td>18</td>\n",
       "    </tr>\n",
       "    <tr>\n",
       "      <th>4</th>\n",
       "      <td>5</td>\n",
       "      <td>US-2015-108966</td>\n",
       "      <td>2015-10-11</td>\n",
       "      <td>2015-10-18</td>\n",
       "      <td>Standard Class</td>\n",
       "      <td>SO-20335</td>\n",
       "      <td>Sean O'Donnell</td>\n",
       "      <td>Consumer</td>\n",
       "      <td>United States</td>\n",
       "      <td>Fort Lauderdale</td>\n",
       "      <td>...</td>\n",
       "      <td>0.20</td>\n",
       "      <td>2.5164</td>\n",
       "      <td>0.1125</td>\n",
       "      <td>17.8944</td>\n",
       "      <td>2015</td>\n",
       "      <td>10</td>\n",
       "      <td>11</td>\n",
       "      <td>2015</td>\n",
       "      <td>10</td>\n",
       "      <td>18</td>\n",
       "    </tr>\n",
       "  </tbody>\n",
       "</table>\n",
       "<p>5 rows × 29 columns</p>\n",
       "</div>"
      ],
      "text/plain": [
       "   row_id        order_id  order_date   ship_date       ship_mode customer_id  \\\n",
       "0       1  CA-2016-152156  2016-11-08  2016-11-11    Second Class    CG-12520   \n",
       "1       2  CA-2016-152156  2016-11-08  2016-11-11    Second Class    CG-12520   \n",
       "2       3  CA-2016-138688  2016-06-12  2016-06-16    Second Class    DV-13045   \n",
       "3       4  US-2015-108966  2015-10-11  2015-10-18  Standard Class    SO-20335   \n",
       "4       5  US-2015-108966  2015-10-11  2015-10-18  Standard Class    SO-20335   \n",
       "\n",
       "     customer_name    segment        country             city  ... discount  \\\n",
       "0      Claire Gute   Consumer  United States        Henderson  ...     0.00   \n",
       "1      Claire Gute   Consumer  United States        Henderson  ...     0.00   \n",
       "2  Darrin Van Huff  Corporate  United States      Los Angeles  ...     0.00   \n",
       "3   Sean O'Donnell   Consumer  United States  Fort Lauderdale  ...     0.45   \n",
       "4   Sean O'Donnell   Consumer  United States  Fort Lauderdale  ...     0.20   \n",
       "\n",
       "     profit profit_margin discounted_sales order_year order_month order_day  \\\n",
       "0   41.9136        0.1600         261.9600       2016          11         8   \n",
       "1  219.5820        0.3000         731.9400       2016          11         8   \n",
       "2    6.8714        0.4700          14.6200       2016           6        12   \n",
       "3 -383.0310       -0.4000         526.6676       2015          10        11   \n",
       "4    2.5164        0.1125          17.8944       2015          10        11   \n",
       "\n",
       "   ship_year  ship_month  ship_day  \n",
       "0       2016          11        11  \n",
       "1       2016          11        11  \n",
       "2       2016           6        16  \n",
       "3       2015          10        18  \n",
       "4       2015          10        18  \n",
       "\n",
       "[5 rows x 29 columns]"
      ]
     },
     "execution_count": 3,
     "metadata": {},
     "output_type": "execute_result"
    }
   ],
   "source": [
    "superstore_df.head()"
   ]
  },
  {
   "cell_type": "code",
   "execution_count": null,
   "id": "a314d689-b903-4955-aab5-c3b36e46d726",
   "metadata": {},
   "outputs": [],
   "source": []
  },
  {
   "cell_type": "markdown",
   "id": "1b500427-854b-4391-9cf3-407204dfa80b",
   "metadata": {},
   "source": [
    "## Customer Analysis"
   ]
  },
  {
   "cell_type": "markdown",
   "id": "179aba0b-f7ad-48e8-b8e3-184b966d3e70",
   "metadata": {},
   "source": [
    "Demographic Distribution: Examine how customers are distributed across regions, states, and cities to identify key markets"
   ]
  },
  {
   "cell_type": "code",
   "execution_count": null,
   "id": "cc29a2af-b6e9-414d-bcd8-44abf0c158f2",
   "metadata": {},
   "outputs": [],
   "source": []
  },
  {
   "cell_type": "markdown",
   "id": "a217e951-3062-42be-9916-d124551a117e",
   "metadata": {},
   "source": [
    "Segment Performance: Evaluate sales, profit, and quantity by customer segment to understand which segments contribute most"
   ]
  },
  {
   "cell_type": "code",
   "execution_count": null,
   "id": "b743a3e2-76b8-4d53-a71f-7c2b86abad2a",
   "metadata": {},
   "outputs": [],
   "source": []
  },
  {
   "cell_type": "markdown",
   "id": "48417bd1-306e-4d02-91f6-4fbebb7cdca3",
   "metadata": {},
   "source": [
    "Geographic Insights: Analyze sales, quantity, and profit by city, state, and region for location-based performance trends"
   ]
  },
  {
   "cell_type": "code",
   "execution_count": null,
   "id": "17af968b-c91e-459c-be73-006abc4739df",
   "metadata": {},
   "outputs": [],
   "source": []
  },
  {
   "cell_type": "markdown",
   "id": "abc752af-0d72-44d6-b17a-7466bbb34ccc",
   "metadata": {},
   "source": [
    "Purchase Patterns: Explore customer buying behavior, including order frequency, profitability, and preferred products"
   ]
  },
  {
   "cell_type": "code",
   "execution_count": null,
   "id": "d623d5cf-5564-459c-b25f-5c9e38cf979d",
   "metadata": {},
   "outputs": [],
   "source": []
  },
  {
   "cell_type": "markdown",
   "id": "39b96582-9b60-4f8e-a32b-3121b8f14e36",
   "metadata": {},
   "source": [
    "## Sales Analysis"
   ]
  },
  {
   "cell_type": "markdown",
   "id": "960f7da6-e25a-4b27-b1e5-e566c226f0c2",
   "metadata": {},
   "source": [
    "Overall Performance: Track sales, profit, and quantity over time (year and month) to monitor trends and seasonality"
   ]
  },
  {
   "cell_type": "code",
   "execution_count": null,
   "id": "f9be97bb-7bc1-4691-a929-ccea011b801b",
   "metadata": {},
   "outputs": [],
   "source": []
  },
  {
   "cell_type": "markdown",
   "id": "4a53ea04-34b3-4d16-92ee-c67cce3e4616",
   "metadata": {},
   "source": [
    "Profitability: Assess profit margins across products, categories, and sub-categories to identify high-margin items"
   ]
  },
  {
   "cell_type": "code",
   "execution_count": null,
   "id": "30ad1a0d-4e77-4224-a03e-a6c46dddf96b",
   "metadata": {},
   "outputs": [],
   "source": []
  },
  {
   "cell_type": "markdown",
   "id": "f56b6119-ba13-46d9-b9db-83ce0b1907b1",
   "metadata": {},
   "source": [
    "Discount Impact: Measure how discounts influence sales revenue and profit to optimize pricing strategies"
   ]
  },
  {
   "cell_type": "code",
   "execution_count": null,
   "id": "f3ba7859-6f5a-4526-8de6-1f8685d3f966",
   "metadata": {},
   "outputs": [],
   "source": []
  },
  {
   "cell_type": "markdown",
   "id": "b516acfa-2b19-4876-a1ae-5f4de717b46b",
   "metadata": {},
   "source": [
    "## Product Analysis"
   ]
  },
  {
   "cell_type": "markdown",
   "id": "b4cc3873-e3a8-45cd-ac95-b5270ed5648d",
   "metadata": {},
   "source": [
    "Top Products: Rank products from most to least sold by quantity and revenue to highlight best-sellers"
   ]
  },
  {
   "cell_type": "code",
   "execution_count": null,
   "id": "14195c35-c9de-40d7-a7b0-ab87ffa38db4",
   "metadata": {},
   "outputs": [],
   "source": []
  },
  {
   "cell_type": "markdown",
   "id": "1a8260b3-ca82-4e29-88e8-3947511e458c",
   "metadata": {},
   "source": [
    "Category & Sub-category Performance: Evaluate revenue and sales by category and sub-category to identify strong-performing product groups"
   ]
  },
  {
   "cell_type": "code",
   "execution_count": null,
   "id": "70a2d0d5-eb3d-4538-a861-df992f8407a2",
   "metadata": {},
   "outputs": [],
   "source": []
  },
  {
   "cell_type": "markdown",
   "id": "fcf18423-f390-4351-a5b7-4705a2b501fd",
   "metadata": {},
   "source": [
    "Product Trends: Detect seasonal or time-based trends in product demand for inventory and marketing planning"
   ]
  },
  {
   "cell_type": "code",
   "execution_count": null,
   "id": "aadf1a4e-728f-4657-9c90-ebca482412bf",
   "metadata": {},
   "outputs": [],
   "source": []
  },
  {
   "cell_type": "markdown",
   "id": "f72261c1-61fd-413e-890d-115849a782e0",
   "metadata": {},
   "source": [
    "## Logistics Analysis"
   ]
  },
  {
   "cell_type": "markdown",
   "id": "05d730a0-a485-4520-9cab-1a85d066f074",
   "metadata": {},
   "source": [
    "Order Volume: Monitor the number of orders over time (year and month) to assess business growth and seasonality"
   ]
  },
  {
   "cell_type": "code",
   "execution_count": null,
   "id": "53eb8b26-a0ff-4d32-9a25-174c04a4a2de",
   "metadata": {},
   "outputs": [],
   "source": []
  },
  {
   "cell_type": "markdown",
   "id": "ba16e3ca-e041-4a1d-9a86-b042e8c2911b",
   "metadata": {},
   "source": [
    "Shipping Mode Performance: Evaluate sales, profit, and delivery efficiency across different shipping modes"
   ]
  },
  {
   "cell_type": "code",
   "execution_count": null,
   "id": "f73ad801-d47e-46ea-9ffe-bbe8855ad68e",
   "metadata": {},
   "outputs": [],
   "source": []
  },
  {
   "cell_type": "markdown",
   "id": "01bd4439-baee-40a1-af75-ca29102eb5d0",
   "metadata": {},
   "source": [
    "Lead Time Analysis: Analyze the time between order and shipment and its impact on sales and customer satisfaction"
   ]
  },
  {
   "cell_type": "code",
   "execution_count": null,
   "id": "66ce7812-dded-499e-a4e5-e7306b75f2cd",
   "metadata": {},
   "outputs": [],
   "source": []
  }
 ],
 "metadata": {
  "kernelspec": {
   "display_name": "Python 3 (ipykernel)",
   "language": "python",
   "name": "python3"
  },
  "language_info": {
   "codemirror_mode": {
    "name": "ipython",
    "version": 3
   },
   "file_extension": ".py",
   "mimetype": "text/x-python",
   "name": "python",
   "nbconvert_exporter": "python",
   "pygments_lexer": "ipython3",
   "version": "3.13.7"
  }
 },
 "nbformat": 4,
 "nbformat_minor": 5
}
