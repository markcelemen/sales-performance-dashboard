{
 "cells": [
  {
   "cell_type": "markdown",
   "id": "fd35f416-c5ff-49b8-acc4-3e218c91b875",
   "metadata": {},
   "source": [
    "# Dataset To SQL"
   ]
  },
  {
   "cell_type": "code",
   "execution_count": 82,
   "id": "41767f95-d359-4938-bec3-b0e856944e6a",
   "metadata": {},
   "outputs": [],
   "source": [
    "import pandas as pd"
   ]
  },
  {
   "cell_type": "code",
   "execution_count": 83,
   "id": "bca8b308-2c81-43ab-94a1-e2c0a7740e90",
   "metadata": {},
   "outputs": [
    {
     "name": "stdout",
     "output_type": "stream",
     "text": [
      "Requirement already satisfied: mysql-connector-python in /opt/homebrew/Cellar/jupyterlab/4.4.7/libexec/lib/python3.13/site-packages (9.4.0)\n",
      "Note: you may need to restart the kernel to use updated packages.\n"
     ]
    }
   ],
   "source": [
    "%pip install mysql-connector-python"
   ]
  },
  {
   "cell_type": "code",
   "execution_count": 84,
   "id": "80398d7c-535e-49b2-bb18-136de73f8570",
   "metadata": {},
   "outputs": [
    {
     "data": {
      "text/plain": [
       "<mysql.connector.cursor_cext.CMySQLCursor at 0x11960ea50>"
      ]
     },
     "execution_count": 84,
     "metadata": {},
     "output_type": "execute_result"
    }
   ],
   "source": [
    "import mysql.connector\n",
    "connection = mysql.connector.connect(\n",
    "    host='localhost',\n",
    "    user='root',\n",
    "    password='markcelemen1',\n",
    "    database='customer_shopping_data'\n",
    ")\n",
    "cursor = connection.cursor() \n",
    "cursor"
   ]
  },
  {
   "cell_type": "code",
   "execution_count": 85,
   "id": "258068d0-7d40-446e-b2eb-fe3a83ad8a8e",
   "metadata": {},
   "outputs": [],
   "source": [
    "create_retail_table = \"\"\"\n",
    "CREATE TABLE IF NOT EXISTS retail (\n",
    "    invoice_no VARCHAR(10) PRIMARY KEY,\n",
    "    customer_id VARCHAR(10),\n",
    "    gender VARCHAR(10),\n",
    "    age INT,\n",
    "    category VARCHAR(20),\n",
    "    quantity INT,\n",
    "    price DECIMAL(8, 2),\n",
    "    payment_method VARCHAR(20),\n",
    "    invoice_date DATE,\n",
    "    shopping_mall VARCHAR(20),\n",
    "    age_group VARCHAR(20),\n",
    "    invoice_year INT,\n",
    "    invoice_month INT,\n",
    "    invoice_day INT,\n",
    "    price_usd DECIMAL(8,2),\n",
    "    revenue DECIMAL(8,2)\n",
    ");\n",
    "\"\"\"\n",
    "cursor.execute(create_retail_table)\n",
    "connection.commit()"
   ]
  },
  {
   "cell_type": "code",
   "execution_count": 86,
   "id": "0ae6fdf4-3d30-4620-b444-5295f01ad6ad",
   "metadata": {},
   "outputs": [
    {
     "name": "stdout",
     "output_type": "stream",
     "text": [
      "('I100008', 'C199951', 'Male', 65, 'Clothing', 5, Decimal('99.99'), 'Cash', datetime.date(2022, 7, 10), 'Emaar Square Mall', 'Baby Boomer', 2022, 7, 10, Decimal('36.20'), Decimal('99.99'))\n",
      "('I100014', 'C138893', 'Male', 55, 'Cosmetics', 5, Decimal('99.99'), 'Cash', datetime.date(2021, 6, 18), 'Viaport Outlet', 'Gen X', 2021, 6, 18, Decimal('4.90'), Decimal('24.50'))\n",
      "('I100015', 'C132779', 'Female', 35, 'Clothing', 2, Decimal('99.99'), 'Debit Card', datetime.date(2021, 3, 4), 'Mall of Istanbul', 'Millennial', 2021, 3, 4, Decimal('14.48'), Decimal('28.96'))\n",
      "('I100024', 'C244411', 'Female', 67, 'Books', 3, Decimal('45.45'), 'Credit Card', datetime.date(2023, 1, 5), 'Emaar Square Mall', 'Baby Boomer', 2023, 1, 5, Decimal('1.10'), Decimal('3.30'))\n",
      "('I100027', 'C150002', 'Female', 19, 'Technology', 4, Decimal('99.99'), 'Cash', datetime.date(2022, 5, 18), 'Mall of Istanbul', 'Gen Z', 2022, 5, 18, Decimal('99.99'), Decimal('99.99'))\n"
     ]
    }
   ],
   "source": [
    "retail_df = pd.read_csv('preprocessed_customer_shopping_data.csv')\n",
    "retail_df = retail_df.where(pd.notnull(retail_df), None)\n",
    "\n",
    "for index, row in retail_df.iterrows():\n",
    "    insert_retail = \"\"\"\n",
    "    INSERT IGNORE INTO retail (invoice_no, customer_id, gender, age, category, quantity, price, payment_method, invoice_date, shopping_mall, age_group, invoice_year, invoice_month, invoice_day, price_usd, revenue)\n",
    "    VALUES (%s, %s, %s, %s, %s, %s, %s, %s, %s, %s, %s, %s, %s, %s, %s, %s)\n",
    "    \"\"\"\n",
    "    cursor.execute(insert_retail, (\n",
    "        row['invoice_no'], row['customer_id'], row['gender'], row['age'],\n",
    "        row['category'], row['quantity'], row['price'], row['payment_method'],\n",
    "        row['invoice_date'], row['shopping_mall'], row['age_group'], row['invoice_year'],\n",
    "        row['invoice_month'], row['invoice_day'], row['price_usd'], row['revenue']\n",
    "    ))\n",
    "\n",
    "# Print results to verify insertion\n",
    "connection.commit()\n",
    "test_query = \"SELECT * FROM retail LIMIT 5\"\n",
    "cursor.execute(test_query)\n",
    "\n",
    "result = cursor.fetchall()\n",
    "for row in result:\n",
    "    print(row)\n",
    "\n",
    "# Close cursor and connection\n",
    "cursor.close()\n",
    "connection.close()"
   ]
  },
  {
   "cell_type": "code",
   "execution_count": 81,
   "id": "0edb34a6-d7e0-48d2-8f11-51374012dbde",
   "metadata": {},
   "outputs": [
    {
     "data": {
      "text/html": [
       "<div>\n",
       "<style scoped>\n",
       "    .dataframe tbody tr th:only-of-type {\n",
       "        vertical-align: middle;\n",
       "    }\n",
       "\n",
       "    .dataframe tbody tr th {\n",
       "        vertical-align: top;\n",
       "    }\n",
       "\n",
       "    .dataframe thead th {\n",
       "        text-align: right;\n",
       "    }\n",
       "</style>\n",
       "<table border=\"1\" class=\"dataframe\">\n",
       "  <thead>\n",
       "    <tr style=\"text-align: right;\">\n",
       "      <th></th>\n",
       "      <th>invoice_no</th>\n",
       "      <th>customer_id</th>\n",
       "      <th>gender</th>\n",
       "      <th>age</th>\n",
       "      <th>category</th>\n",
       "      <th>quantity</th>\n",
       "      <th>price</th>\n",
       "      <th>payment_method</th>\n",
       "      <th>invoice_date</th>\n",
       "      <th>shopping_mall</th>\n",
       "      <th>age_group</th>\n",
       "      <th>invoice_year</th>\n",
       "      <th>invoice_month</th>\n",
       "      <th>invoice_day</th>\n",
       "      <th>price_usd</th>\n",
       "      <th>revenue</th>\n",
       "    </tr>\n",
       "  </thead>\n",
       "  <tbody>\n",
       "    <tr>\n",
       "      <th>98685</th>\n",
       "      <td>I100008</td>\n",
       "      <td>C199951</td>\n",
       "      <td>Male</td>\n",
       "      <td>65</td>\n",
       "      <td>Clothing</td>\n",
       "      <td>5</td>\n",
       "      <td>1500.4</td>\n",
       "      <td>Cash</td>\n",
       "      <td>2022-07-10</td>\n",
       "      <td>Emaar Square Mall</td>\n",
       "      <td>Baby Boomer</td>\n",
       "      <td>2022</td>\n",
       "      <td>7</td>\n",
       "      <td>10</td>\n",
       "      <td>36.2</td>\n",
       "      <td>181.0</td>\n",
       "    </tr>\n",
       "  </tbody>\n",
       "</table>\n",
       "</div>"
      ],
      "text/plain": [
       "      invoice_no customer_id gender  age  category  quantity   price  \\\n",
       "98685    I100008     C199951   Male   65  Clothing         5  1500.4   \n",
       "\n",
       "      payment_method invoice_date      shopping_mall    age_group  \\\n",
       "98685           Cash   2022-07-10  Emaar Square Mall  Baby Boomer   \n",
       "\n",
       "       invoice_year  invoice_month  invoice_day  price_usd  revenue  \n",
       "98685          2022              7           10       36.2    181.0  "
      ]
     },
     "execution_count": 81,
     "metadata": {},
     "output_type": "execute_result"
    }
   ],
   "source": [
    "retail_df[retail_df['invoice_no'] == 'I100008']"
   ]
  },
  {
   "cell_type": "code",
   "execution_count": null,
   "id": "b0cdd41e-a10a-4f52-a311-c833dd20e970",
   "metadata": {},
   "outputs": [],
   "source": []
  }
 ],
 "metadata": {
  "kernelspec": {
   "display_name": "Python 3 (ipykernel)",
   "language": "python",
   "name": "python3"
  },
  "language_info": {
   "codemirror_mode": {
    "name": "ipython",
    "version": 3
   },
   "file_extension": ".py",
   "mimetype": "text/x-python",
   "name": "python",
   "nbconvert_exporter": "python",
   "pygments_lexer": "ipython3",
   "version": "3.13.7"
  }
 },
 "nbformat": 4,
 "nbformat_minor": 5
}
